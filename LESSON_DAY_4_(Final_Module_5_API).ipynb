{
  "nbformat": 4,
  "nbformat_minor": 0,
  "metadata": {
    "colab": {
      "provenance": [],
      "authorship_tag": "ABX9TyO46kyXJN5M1hIpiok2Wdot",
      "include_colab_link": true
    },
    "kernelspec": {
      "name": "python3",
      "display_name": "Python 3"
    },
    "language_info": {
      "name": "python"
    }
  },
  "cells": [
    {
      "cell_type": "markdown",
      "metadata": {
        "id": "view-in-github",
        "colab_type": "text"
      },
      "source": [
        "<a href=\"https://colab.research.google.com/github/sabrinaMKE201073/Python-for-Data-Science-Lesson/blob/main/LESSON_DAY_4_(Final_Module_5_API).ipynb\" target=\"_parent\"><img src=\"https://colab.research.google.com/assets/colab-badge.svg\" alt=\"Open In Colab\"/></a>"
      ]
    },
    {
      "cell_type": "code",
      "source": [
        "import numpy as np\n",
        "\n",
        "a=np.array([0,1,0,1,0])\n",
        "\n",
        "b=np.array([1,0,1,0,1])\n",
        "\n",
        "a*b"
      ],
      "metadata": {
        "colab": {
          "base_uri": "https://localhost:8080/"
        },
        "id": "x1k1naAksV1t",
        "outputId": "f09afcc3-587b-4922-f5b2-427e768bf4fc"
      },
      "execution_count": null,
      "outputs": [
        {
          "output_type": "execute_result",
          "data": {
            "text/plain": [
              "array([0, 0, 0, 0, 0])"
            ]
          },
          "metadata": {},
          "execution_count": 5
        }
      ]
    },
    {
      "cell_type": "code",
      "source": [
        "a=np.array([0,1])\n",
        "\n",
        "b=np.array([1,0])\n",
        "\n",
        "np.dot(a,b)"
      ],
      "metadata": {
        "colab": {
          "base_uri": "https://localhost:8080/"
        },
        "id": "o6aCVAQKuA8-",
        "outputId": "d9d37560-3d85-41c2-fdc2-299ce6698d59"
      },
      "execution_count": null,
      "outputs": [
        {
          "output_type": "execute_result",
          "data": {
            "text/plain": [
              "0"
            ]
          },
          "metadata": {},
          "execution_count": 6
        }
      ]
    },
    {
      "cell_type": "code",
      "source": [
        "a=np.array([1,1,1,1,1])\n",
        "\n",
        "a+10"
      ],
      "metadata": {
        "colab": {
          "base_uri": "https://localhost:8080/"
        },
        "id": "zzck610SuBAn",
        "outputId": "a15fb5c8-8b21-455f-9c3c-e829ace57713"
      },
      "execution_count": null,
      "outputs": [
        {
          "output_type": "execute_result",
          "data": {
            "text/plain": [
              "array([11, 11, 11, 11, 11])"
            ]
          },
          "metadata": {},
          "execution_count": 7
        }
      ]
    },
    {
      "cell_type": "markdown",
      "source": [
        "MODULE 5 - SIMPLE API (PART 2)\n",
        "- <code>WATSON SPEECH</code> to <code>TEXT</code>"
      ],
      "metadata": {
        "id": "ZjaFd557rNIV"
      }
    },
    {
      "cell_type": "markdown",
      "source": [
        "- this is the code for transcipt the speech audio to text"
      ],
      "metadata": {
        "id": "mWYDgwK_5uYg"
      }
    },
    {
      "cell_type": "code",
      "source": [
        "#the code should be like this but, i can't run\n",
        "#because ibm cloud service not free anymore\n",
        "!pip install ibm_watson\n",
        "from ibm_watson import SpeechToTextV1\n",
        "url_s2t = \"https://stream.watsonplatform.net/speech-to-text/api\"\n",
        "iam_apikey_s2t =\"E0eiZxxxDxV2xxxxxxxxxxxxxxxxxjYen9SKARKW-\"\n",
        "s2t = SpeechToTextV1(iam_apikey_s2t, url=url_s2t)\n",
        "\n",
        "filename = \"hello_this_is_python.wav\"\n",
        "#this is the input in form of audio file\n",
        "with open(filename, mode =\"rb\") as wav:\n",
        "  response = s2t.recognize(audio = wav,content_type ='audio/wav')\n",
        "\n",
        "response.result\n",
        "\n",
        "recognized_text = response.result['results'][0][\"alternatives\"][0][\"transript\"]\n",
        "print(recognized_text)\n",
        "#the output will be in form of text: 'hello this is python'"
      ],
      "metadata": {
        "id": "4wWD4wePuBEf"
      },
      "execution_count": null,
      "outputs": []
    },
    {
      "cell_type": "markdown",
      "source": [
        "MODULE 5 - SIMPLE API (PART 2)\n",
        "- <code>WATSON LANGUAGE TRANSLATOR</code>"
      ],
      "metadata": {
        "id": "yYN0DxVR6MXc"
      }
    },
    {
      "cell_type": "code",
      "source": [
        "#first need to import language translator V3 from ibm watson services\n",
        "from ibm_watson import LanguageTranslatorV3\n",
        "url_LT = 'https:gateway.watsonplatform.net/language-translator/api'\n",
        "apikey_LT = 'du2SaxxxxxxxxxxxxxxxxxasdfCuasdf'\n",
        "version_LT = '2018-05-01'\n",
        "language_translator = LanguageTranslatorV3(iam_apikey = apikey_LT,\n",
        "                                           url = url_LT,\n",
        "                                           version = version_LT)\n",
        "\n",
        "language_translator.list_identifieable_language().get_result()\n",
        "#this will call out all the languages with code\n",
        "#for example, en for English, kr for Korean\n",
        "\n",
        "recognized_text = 'hello this is python'\n",
        "\n",
        "translation_response = language_translator.translate(text = recognized_text,\n",
        "                                                     model_id ='en-kr')\n",
        "\n",
        "translation = translation_response.get_result()\n",
        "#the output will be like this:\n",
        "#{'translation':[{'translation': '안녕하세요 파이썬입니다'}],'word_count':2, 'character_count':11}\n",
        "\n",
        "korean_translation = translation['translations'][0]['translation']\n",
        "print(korean_translation)\n",
        "#the output will be:  '안녕하세요 파이썬입니다'\n",
        "\n",
        "#Next, we can translate back to English as well\n",
        "translation_new = language_translator.translate(text=korean_translation,\n",
        "                                                model_ide='kr-en'.get_result())\n",
        "\n",
        "translation_eng = translation_new['translations'][0]['translation']\n",
        "\n",
        "translation_eng\n",
        "#the output will be: 'Hey, this is the python.'"
      ],
      "metadata": {
        "id": "erpNzr80uBIG"
      },
      "execution_count": null,
      "outputs": []
    },
    {
      "cell_type": "markdown",
      "source": [
        "**END OF COURSE on 16/6**\n",
        "\n",
        "total course : 20 hours (from 13-16 June 2023)"
      ],
      "metadata": {
        "id": "y2nND7dt_5HW"
      }
    }
  ]
}